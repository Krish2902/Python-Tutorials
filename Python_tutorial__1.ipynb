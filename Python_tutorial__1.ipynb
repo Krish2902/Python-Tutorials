{
  "nbformat": 4,
  "nbformat_minor": 0,
  "metadata": {
    "colab": {
      "provenance": [],
      "collapsed_sections": [
        "ggZzKuopeuRb"
      ]
    },
    "kernelspec": {
      "name": "python3",
      "display_name": "Python 3"
    },
    "language_info": {
      "name": "python"
    }
  },
  "cells": [
    {
      "cell_type": "markdown",
      "source": [
        "# Python Introduction"
      ],
      "metadata": {
        "id": "6kq8-GY5e1hO"
      }
    },
    {
      "cell_type": "code",
      "execution_count": null,
      "metadata": {
        "colab": {
          "base_uri": "https://localhost:8080/"
        },
        "id": "ec7QrDPkYTKU",
        "outputId": "036bd12e-fb80-4d90-e484-b08abb53c76b"
      },
      "outputs": [
        {
          "output_type": "stream",
          "name": "stdout",
          "text": [
            "hello world\n"
          ]
        }
      ],
      "source": [
        "print(\"hello world\")"
      ]
    },
    {
      "cell_type": "code",
      "source": [
        "print(\"Salman Khan\")"
      ],
      "metadata": {
        "colab": {
          "base_uri": "https://localhost:8080/"
        },
        "id": "ia2Y5wgybB04",
        "outputId": "d7ab0678-8a0c-4ff4-e250-11e3a36b1291"
      },
      "execution_count": null,
      "outputs": [
        {
          "output_type": "stream",
          "name": "stdout",
          "text": [
            "Salman Khan\n"
          ]
        }
      ]
    },
    {
      "cell_type": "code",
      "source": [
        "print(7)"
      ],
      "metadata": {
        "colab": {
          "base_uri": "https://localhost:8080/"
        },
        "id": "jTUEXQiXbTYV",
        "outputId": "aaa3b36b-7ee9-487e-acfd-3c7501ae45e3"
      },
      "execution_count": null,
      "outputs": [
        {
          "output_type": "stream",
          "name": "stdout",
          "text": [
            "7\n"
          ]
        }
      ]
    },
    {
      "cell_type": "code",
      "source": [
        "print('Hello',1,4.5,True)"
      ],
      "metadata": {
        "colab": {
          "base_uri": "https://localhost:8080/"
        },
        "id": "kcUiuSmIbiKl",
        "outputId": "b08969f6-6bdf-4e65-c2af-8e7afdedc393"
      },
      "execution_count": null,
      "outputs": [
        {
          "output_type": "stream",
          "name": "stdout",
          "text": [
            "Hello 1 4.5 True\n"
          ]
        }
      ]
    },
    {
      "cell_type": "code",
      "source": [
        "print('Hello',1,4.5,True,sep ='/')"
      ],
      "metadata": {
        "colab": {
          "base_uri": "https://localhost:8080/"
        },
        "id": "KU2iyGxPcJLd",
        "outputId": "8c7ef73c-82f5-4405-98c5-019b5899f6f7"
      },
      "execution_count": null,
      "outputs": [
        {
          "output_type": "stream",
          "name": "stdout",
          "text": [
            "Hello/1/4.5/True\n"
          ]
        }
      ]
    },
    {
      "cell_type": "code",
      "source": [
        "print('hello')\n",
        "print('world')"
      ],
      "metadata": {
        "colab": {
          "base_uri": "https://localhost:8080/"
        },
        "id": "FFgY446RcYsv",
        "outputId": "ab3d5e53-98b8-46dd-ce9f-5dfa4def9317"
      },
      "execution_count": null,
      "outputs": [
        {
          "output_type": "stream",
          "name": "stdout",
          "text": [
            "hello\n",
            "world\n"
          ]
        }
      ]
    },
    {
      "cell_type": "code",
      "source": [
        "print('hello',end = '-')\n",
        "print('world')"
      ],
      "metadata": {
        "colab": {
          "base_uri": "https://localhost:8080/"
        },
        "id": "bwDLJFfdcpMO",
        "outputId": "5fe939b6-3da9-4cb2-9107-5c27dd4a458e"
      },
      "execution_count": null,
      "outputs": [
        {
          "output_type": "stream",
          "name": "stdout",
          "text": [
            "hello-world\n"
          ]
        }
      ]
    },
    {
      "cell_type": "markdown",
      "source": [
        "# Data Types"
      ],
      "metadata": {
        "id": "ggZzKuopeuRb"
      }
    },
    {
      "cell_type": "code",
      "source": [
        "#integer\n",
        "print(8)\n",
        "# 1*10^308 - python supports\n",
        "print(1e309)"
      ],
      "metadata": {
        "colab": {
          "base_uri": "https://localhost:8080/"
        },
        "id": "IJk7wYt0ez7H",
        "outputId": "62a7d25e-57cc-4c0d-ded0-b9f6dcd02b65"
      },
      "execution_count": null,
      "outputs": [
        {
          "output_type": "stream",
          "name": "stdout",
          "text": [
            "8\n",
            "inf\n"
          ]
        }
      ]
    },
    {
      "cell_type": "code",
      "source": [
        "#Decimal/Float\n",
        "print(8.55)\n",
        "print(1.7e309)"
      ],
      "metadata": {
        "colab": {
          "base_uri": "https://localhost:8080/"
        },
        "id": "uk8Nyjjsf39i",
        "outputId": "bf0e8ced-cba0-4caf-96b0-4a9f81bdc22b"
      },
      "execution_count": null,
      "outputs": [
        {
          "output_type": "stream",
          "name": "stdout",
          "text": [
            "8.55\n",
            "inf\n"
          ]
        }
      ]
    },
    {
      "cell_type": "code",
      "source": [
        "#Boolean\n",
        "print(True)\n",
        "print(False)"
      ],
      "metadata": {
        "colab": {
          "base_uri": "https://localhost:8080/"
        },
        "id": "QfBRjox4f-eO",
        "outputId": "231ac2d7-9cb6-4da5-b3a5-f0521cc22d3e"
      },
      "execution_count": null,
      "outputs": [
        {
          "output_type": "stream",
          "name": "stdout",
          "text": [
            "True\n",
            "False\n"
          ]
        }
      ]
    },
    {
      "cell_type": "code",
      "source": [
        "#Text/String\n",
        "print('Hello World')"
      ],
      "metadata": {
        "colab": {
          "base_uri": "https://localhost:8080/"
        },
        "id": "WG_hqxijgIPX",
        "outputId": "f333dbf6-3c70-4ad4-e10e-ec5a622af407"
      },
      "execution_count": null,
      "outputs": [
        {
          "output_type": "stream",
          "name": "stdout",
          "text": [
            "Hello World\n"
          ]
        }
      ]
    },
    {
      "cell_type": "code",
      "source": [
        "#Complex\n",
        "print(5+6j)"
      ],
      "metadata": {
        "colab": {
          "base_uri": "https://localhost:8080/"
        },
        "id": "XCVNx7MSgQC8",
        "outputId": "0f4f6fc1-d409-4075-dbe9-49e6e9a2ceee"
      },
      "execution_count": null,
      "outputs": [
        {
          "output_type": "stream",
          "name": "stdout",
          "text": [
            "(5+6j)\n"
          ]
        }
      ]
    },
    {
      "cell_type": "code",
      "source": [
        "#list -> C-> Array\n",
        "print([1,2,3,4,5])\n"
      ],
      "metadata": {
        "colab": {
          "base_uri": "https://localhost:8080/"
        },
        "id": "N9gFmm4Igc7D",
        "outputId": "f07b6cb8-67b4-4b5e-9690-f317ebe23b63"
      },
      "execution_count": null,
      "outputs": [
        {
          "output_type": "stream",
          "name": "stdout",
          "text": [
            "[1, 2, 3, 4, 5]\n"
          ]
        }
      ]
    },
    {
      "cell_type": "code",
      "source": [
        "#Tuple\n",
        "print((1,2,3,4,5))"
      ],
      "metadata": {
        "colab": {
          "base_uri": "https://localhost:8080/"
        },
        "id": "XngXXyDvgrzi",
        "outputId": "2d6252f6-ad03-42a2-d3c4-02a71bdf0574"
      },
      "execution_count": null,
      "outputs": [
        {
          "output_type": "stream",
          "name": "stdout",
          "text": [
            "(1, 2, 3, 4, 5)\n"
          ]
        }
      ]
    },
    {
      "cell_type": "code",
      "source": [
        "#sets\n",
        "print({1,2,3,4,5})"
      ],
      "metadata": {
        "colab": {
          "base_uri": "https://localhost:8080/"
        },
        "id": "dH6u5HOSgw_A",
        "outputId": "c80164ed-3c7a-483d-b9be-9625fbd0a3a7"
      },
      "execution_count": null,
      "outputs": [
        {
          "output_type": "stream",
          "name": "stdout",
          "text": [
            "{1, 2, 3, 4, 5}\n"
          ]
        }
      ]
    },
    {
      "cell_type": "code",
      "source": [
        "#Dictionary\n",
        "print({'name':'Krishna','gender':'Female','weight':50})"
      ],
      "metadata": {
        "colab": {
          "base_uri": "https://localhost:8080/"
        },
        "id": "__Pv3mAmg3p9",
        "outputId": "e8e38cb8-f9a9-45c3-c60a-a28003ab1d0d"
      },
      "execution_count": null,
      "outputs": [
        {
          "output_type": "stream",
          "name": "stdout",
          "text": [
            "{'name': 'Krishna', 'gender': 'Female', 'weight': 50}\n"
          ]
        }
      ]
    },
    {
      "cell_type": "code",
      "source": [
        "type(3)\n",
        "type(3.6)"
      ],
      "metadata": {
        "colab": {
          "base_uri": "https://localhost:8080/"
        },
        "id": "bhBK2Zr0jGE3",
        "outputId": "0e19e12c-4d36-4034-f6eb-5124b3203e5f"
      },
      "execution_count": null,
      "outputs": [
        {
          "output_type": "execute_result",
          "data": {
            "text/plain": [
              "float"
            ]
          },
          "metadata": {},
          "execution_count": 19
        }
      ]
    },
    {
      "cell_type": "markdown",
      "source": [
        "# Variables"
      ],
      "metadata": {
        "id": "9CKDJMmvjPoj"
      }
    },
    {
      "cell_type": "code",
      "source": [
        "# c/c++\n",
        "# int name = Salman\n",
        "\n",
        "name = 'Salman'\n",
        "print(name)\n",
        "\n",
        "a = 5\n",
        "b = 6\n",
        "\n",
        "print(a + b)"
      ],
      "metadata": {
        "colab": {
          "base_uri": "https://localhost:8080/"
        },
        "id": "x8a6AXghjVQv",
        "outputId": "c76e5d3f-fd13-42bb-a7ac-a368afd93cd8"
      },
      "execution_count": null,
      "outputs": [
        {
          "output_type": "stream",
          "name": "stdout",
          "text": [
            "Salman\n",
            "11\n"
          ]
        }
      ]
    },
    {
      "cell_type": "code",
      "source": [
        "#Dynamic Typing\n",
        "a = 5\n",
        "#Static Typing\n",
        "int a = 5"
      ],
      "metadata": {
        "id": "IgRZ9Gw2uWjB"
      },
      "execution_count": null,
      "outputs": []
    },
    {
      "cell_type": "code",
      "source": [
        "#Dynamic Binding\n",
        "a = 5\n",
        "print(a)\n",
        "a = 'Salman'\n",
        "print(a)\n",
        "\n",
        "#Static Binding\n",
        "int a = 5"
      ],
      "metadata": {
        "id": "qXSm9OrGvDqO"
      },
      "execution_count": null,
      "outputs": []
    },
    {
      "cell_type": "code",
      "source": [
        "a =1\n",
        "b =2\n",
        "c =3\n",
        "print(a,b,c)"
      ],
      "metadata": {
        "colab": {
          "base_uri": "https://localhost:8080/"
        },
        "id": "iEsTpGl9v2Mk",
        "outputId": "aac3772f-a299-42fe-cbf7-e8c4a6f81219"
      },
      "execution_count": null,
      "outputs": [
        {
          "output_type": "stream",
          "name": "stdout",
          "text": [
            "1 2 3\n"
          ]
        }
      ]
    },
    {
      "cell_type": "code",
      "source": [
        "a,b,c = 1,2,3\n",
        "print(a,b,c)"
      ],
      "metadata": {
        "colab": {
          "base_uri": "https://localhost:8080/"
        },
        "id": "D3ceeIcRv_Ua",
        "outputId": "9d2e593d-1cb5-49cf-fc73-17beb98b33a9"
      },
      "execution_count": null,
      "outputs": [
        {
          "output_type": "stream",
          "name": "stdout",
          "text": [
            "1 2 3\n"
          ]
        }
      ]
    },
    {
      "cell_type": "code",
      "source": [
        "a=b=c = 5\n",
        "print(a,b,c)"
      ],
      "metadata": {
        "colab": {
          "base_uri": "https://localhost:8080/"
        },
        "id": "QOxBP7h2wJUD",
        "outputId": "4c58d79d-b35f-419e-e26f-af5f0a135661"
      },
      "execution_count": null,
      "outputs": [
        {
          "output_type": "stream",
          "name": "stdout",
          "text": [
            "5 5 5\n"
          ]
        }
      ]
    },
    {
      "cell_type": "markdown",
      "source": [
        "# User Input"
      ],
      "metadata": {
        "id": "OlWtJ6gGgSEI"
      }
    },
    {
      "cell_type": "code",
      "source": [
        "#static and Dynamic\n",
        "input('Enter the first name')"
      ],
      "metadata": {
        "colab": {
          "base_uri": "https://localhost:8080/",
          "height": 53
        },
        "id": "dyLOOIligWKf",
        "outputId": "f45d66b5-6a21-4a04-e0bb-ae44b930ec12"
      },
      "execution_count": 3,
      "outputs": [
        {
          "name": "stdout",
          "output_type": "stream",
          "text": [
            "Enter the first nameKrishna\n"
          ]
        },
        {
          "output_type": "execute_result",
          "data": {
            "text/plain": [
              "'Krishna'"
            ],
            "application/vnd.google.colaboratory.intrinsic+json": {
              "type": "string"
            }
          },
          "metadata": {},
          "execution_count": 3
        }
      ]
    },
    {
      "cell_type": "code",
      "source": [
        "#take input from user and add two numbers\n",
        "fnum = int(input('first number'))\n",
        "snum = int(input('second number'))\n",
        "result = fnum + snum\n",
        "print(result)\n",
        "print(type(fnum))"
      ],
      "metadata": {
        "colab": {
          "base_uri": "https://localhost:8080/"
        },
        "id": "wACbfzOEiGJA",
        "outputId": "4299e525-beda-432c-b032-d4b813d6a14f"
      },
      "execution_count": 1,
      "outputs": [
        {
          "output_type": "stream",
          "name": "stdout",
          "text": [
            "first number7\n",
            "second number5\n",
            "12\n",
            "<class 'int'>\n"
          ]
        }
      ]
    },
    {
      "cell_type": "markdown",
      "source": [
        "# Literals"
      ],
      "metadata": {
        "id": "oOYN6UvH7HPs"
      }
    },
    {
      "cell_type": "code",
      "source": [
        "a = 0b1010 #Binary Literals\n",
        "b = 100 #Decimal Literal\n",
        "c = 0o310 #Octal Literal\n",
        "d = 0x12c #Hexadecimal Literal\n",
        "\n",
        "#Float Literal\n",
        "float_1 = 10.7\n",
        "print(a)\n",
        "print(b)\n",
        "print(c)\n",
        "print(d)\n",
        "print(float_1)"
      ],
      "metadata": {
        "colab": {
          "base_uri": "https://localhost:8080/"
        },
        "id": "7lfvXJls7KTi",
        "outputId": "ac9be24b-3bd6-4481-8eec-b4fee334e458"
      },
      "execution_count": 3,
      "outputs": [
        {
          "output_type": "stream",
          "name": "stdout",
          "text": [
            "10\n",
            "100\n",
            "200\n",
            "300\n",
            "10.7\n"
          ]
        }
      ]
    },
    {
      "cell_type": "markdown",
      "source": [
        "#Task1"
      ],
      "metadata": {
        "id": "xAsvnPLy9VIb"
      }
    },
    {
      "cell_type": "code",
      "source": [
        "print(\"Data\", \"science\", \"mentorship\" , \"program\", sep=\"-\", end = '-')\n",
        "print(\"by\",\"CampusX\", sep = \"-\")"
      ],
      "metadata": {
        "colab": {
          "base_uri": "https://localhost:8080/"
        },
        "id": "Ph6TdI9W9Xo_",
        "outputId": "824546c3-4199-4db4-dcd3-5f8d1d7820cf"
      },
      "execution_count": 16,
      "outputs": [
        {
          "output_type": "stream",
          "name": "stdout",
          "text": [
            "Data-science-mentorship-program-by-CampusX\n"
          ]
        }
      ]
    },
    {
      "cell_type": "code",
      "source": [
        "c= int(input(\"Enter the celsius value\"))\n",
        "f = (c*9/5)+32\n",
        "print(f)"
      ],
      "metadata": {
        "colab": {
          "base_uri": "https://localhost:8080/"
        },
        "id": "v-hlciCaBUjq",
        "outputId": "d41887b2-028e-46ea-c98a-8fbe1a411ce5"
      },
      "execution_count": 17,
      "outputs": [
        {
          "output_type": "stream",
          "name": "stdout",
          "text": [
            "Enter the celsius value5\n",
            "41.0\n"
          ]
        }
      ]
    },
    {
      "cell_type": "code",
      "source": [
        "a = int(input(\"Enter the first number\"))\n",
        "b = int(input(\"Enter the second number\"))\n",
        "x = a\n",
        "a = b\n",
        "b = x\n",
        "print(\"a value\", a)\n",
        "print(\"b value\", b)"
      ],
      "metadata": {
        "colab": {
          "base_uri": "https://localhost:8080/"
        },
        "id": "0XXddNVhCVhU",
        "outputId": "3f504418-2779-452f-be41-b7abd8ad66bd"
      },
      "execution_count": 20,
      "outputs": [
        {
          "output_type": "stream",
          "name": "stdout",
          "text": [
            "Enter the first number5\n",
            "Enter the second number8\n",
            "a value 8\n",
            "b value 5\n"
          ]
        }
      ]
    },
    {
      "cell_type": "code",
      "source": [
        "x1 = int(input(\"Enter the first coordinate\"))\n",
        "x2 = int(input(\"Enter the second coordinate\"))\n",
        "y1 = int(input(\"Enter the first coordinate\"))\n",
        "y2 = int(input(\"Enter the second coordinate\"))\n",
        "distance = ((x2-x1)**2 + (y2-y1)**2)**0.5\n",
        "print(distance)\n"
      ],
      "metadata": {
        "colab": {
          "base_uri": "https://localhost:8080/"
        },
        "id": "NYoCzaAQGUCn",
        "outputId": "656a2d0d-fb75-4f3c-fe85-fe220995e6f8"
      },
      "execution_count": 21,
      "outputs": [
        {
          "output_type": "stream",
          "name": "stdout",
          "text": [
            "Enter the first coordinate5\n",
            "Enter the second coordinate4\n",
            "Enter the first coordinate6\n",
            "Enter the second coordinate7\n",
            "1.4142135623730951\n"
          ]
        }
      ]
    },
    {
      "cell_type": "code",
      "source": [
        "p = int(input(\"Enter the principal amount  \"))\n",
        "r = int(input(\"Enter the rate of interest  \"))\n",
        "t = int(input(\"Enter the time  \"))\n",
        "si = (p*r*t)/100\n",
        "print(si)"
      ],
      "metadata": {
        "colab": {
          "base_uri": "https://localhost:8080/"
        },
        "id": "ssv9qaigIAMt",
        "outputId": "a11c7fe0-4733-4d42-b604-14c6bb95ae10"
      },
      "execution_count": 24,
      "outputs": [
        {
          "output_type": "stream",
          "name": "stdout",
          "text": [
            "Enter the principal amount  6\n",
            "Enter the rate of interest  7\n",
            "Enter the time  8\n",
            "3.36\n"
          ]
        }
      ]
    },
    {
      "cell_type": "code",
      "source": [
        "heads = int(input(\"Enter the number of heads  \"))\n",
        "legs = int(input(\"Enter the number of legs  \"))\n",
        "dogs = (legs - 2*heads)/2\n",
        "chicken = heads - dogs\n",
        "print(\"dogs = \",dogs)\n",
        "print(\"chicken = \", chicken)"
      ],
      "metadata": {
        "colab": {
          "base_uri": "https://localhost:8080/"
        },
        "id": "6OuJzbHeIbi_",
        "outputId": "f551805e-e9b2-41a6-bfad-f2647e6f889b"
      },
      "execution_count": 27,
      "outputs": [
        {
          "output_type": "stream",
          "name": "stdout",
          "text": [
            "Enter the number of heads  4\n",
            "Enter the number of legs  12\n",
            "dogs =  2.0\n",
            "chicken =  2.0\n"
          ]
        }
      ]
    },
    {
      "cell_type": "code",
      "source": [
        "n = int(input(\"enter the number\"))\n",
        "sum = n*(n+1)*(2*n + 1)/6\n",
        "print(sum)"
      ],
      "metadata": {
        "colab": {
          "base_uri": "https://localhost:8080/"
        },
        "id": "pYBET5N9J-X5",
        "outputId": "373d5604-f463-4210-eb57-87b6def49a8e"
      },
      "execution_count": 29,
      "outputs": [
        {
          "output_type": "stream",
          "name": "stdout",
          "text": [
            "enter the number8\n",
            "204.0\n"
          ]
        }
      ]
    },
    {
      "cell_type": "code",
      "source": [
        "a1 = int(input(\"enter the value  \"))\n",
        "a2 = int(input(\"enter the value  \"))\n",
        "n = int(input(\"enter the value  \"))\n",
        "\n",
        "d = a1 - a2\n",
        "\n",
        "aN = a1 + (n-1)*d\n",
        "\n",
        "print (aN)"
      ],
      "metadata": {
        "colab": {
          "base_uri": "https://localhost:8080/"
        },
        "id": "H7fGTvn-No6j",
        "outputId": "e878e2e6-fc81-4e29-b517-e6369b2fb60c"
      },
      "execution_count": 30,
      "outputs": [
        {
          "output_type": "stream",
          "name": "stdout",
          "text": [
            "enter the value  6\n",
            "enter the value  5\n",
            "enter the value  6\n",
            "11\n"
          ]
        }
      ]
    },
    {
      "cell_type": "code",
      "source": [
        "n1 = int(input(\"enter n1\"))\n",
        "n2 = int(input(\"enter n2\"))\n",
        "d1 = int(input(\"enter d1\"))\n",
        "d2 = int(input(\"enter d2\"))\n",
        "\n",
        "f1 = n1/d1\n",
        "f2 = n2/d2\n",
        "\n",
        "f = float(f1) + float(f2)\n",
        "\n",
        "print(f)\n"
      ],
      "metadata": {
        "colab": {
          "base_uri": "https://localhost:8080/"
        },
        "id": "neqmmuzLOfAq",
        "outputId": "95a3ab88-00d2-4d00-b92a-0b28d8c0a499"
      },
      "execution_count": 33,
      "outputs": [
        {
          "output_type": "stream",
          "name": "stdout",
          "text": [
            "enter n11\n",
            "enter n21\n",
            "enter d12\n",
            "enter d23\n",
            "0.8333333333333333\n"
          ]
        }
      ]
    },
    {
      "cell_type": "code",
      "source": [
        "import math\n",
        "H =  int(input(\"enter height of the Tank \"))\n",
        "L =  int(input(\"enter Widht of the Tank \"))\n",
        "B =  int(input(\"enter Breadth of the Tank \"))\n",
        "\n",
        "tank = H * L * B\n",
        "\n",
        "h =  int(input(\"enter height of the Glass \"))\n",
        "r =  int(input(\"enter radius of the Glass 22\"))\n",
        "\n",
        "glass = math.pi * r**2 * h\n",
        "\n",
        "num_glass = int (tank / glass)\n",
        "\n",
        "print(num_glass)"
      ],
      "metadata": {
        "colab": {
          "base_uri": "https://localhost:8080/"
        },
        "id": "zkGjek-yQaDg",
        "outputId": "0aadc67c-6567-4e9e-aefa-ed00d687e083"
      },
      "execution_count": 39,
      "outputs": [
        {
          "output_type": "stream",
          "name": "stdout",
          "text": [
            "enter height of the Tank 20\n",
            "enter Widht of the Tank 20\n",
            "enter Breadth of the Tank 0\n",
            "enter height of the Glass 3\n",
            "enter radius of the Glass 1\n",
            "0\n"
          ]
        }
      ]
    }
  ]
}